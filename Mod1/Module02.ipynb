{
 "cells": [
  {
   "cell_type": "code",
   "execution_count": 10,
   "metadata": {},
   "outputs": [
    {
     "name": "stdout",
     "output_type": "stream",
     "text": [
      "0.0009765625\n",
      "639383.8623046875\n"
     ]
    }
   ],
   "source": [
    "import math\n",
    "\n",
    "n = 20\n",
    "x = 10\n",
    "x_fac = (math.factorial(20))\n",
    "n_fac = (math.factorial(n-x))\n",
    "\n",
    "print(0.5**10)\n",
    "\n",
    "prob = ((x_fac)/(n_fac))*((0.5)**10)*((0.5)**10)\n",
    "print(prob)"
   ]
  }
 ],
 "metadata": {
  "kernelspec": {
   "display_name": "Python 3",
   "language": "python",
   "name": "python3"
  },
  "language_info": {
   "codemirror_mode": {
    "name": "ipython",
    "version": 3
   },
   "file_extension": ".py",
   "mimetype": "text/x-python",
   "name": "python",
   "nbconvert_exporter": "python",
   "pygments_lexer": "ipython3",
   "version": "3.6.4"
  }
 },
 "nbformat": 4,
 "nbformat_minor": 2
}
