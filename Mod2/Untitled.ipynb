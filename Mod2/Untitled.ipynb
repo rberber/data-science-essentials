{
 "cells": [
  {
   "cell_type": "code",
   "execution_count": 2,
   "metadata": {},
   "outputs": [
    {
     "ename": "ERROR",
     "evalue": "Error in library(\"AzureML\"): there is no package called ‘AzureML’\n",
     "output_type": "error",
     "traceback": [
      "Error in library(\"AzureML\"): there is no package called ‘AzureML’\nTraceback:\n",
      "1. library(\"AzureML\")",
      "2. stop(txt, domain = NA)"
     ]
    }
   ],
   "source": [
    "library(\"AzureML\")\n",
    "ws <- workspace()\n",
    "dat <- download.datasets(ws, \"Automobile price data (Raw)\")"
   ]
  }
 ],
 "metadata": {
  "kernelspec": {
   "display_name": "R",
   "language": "R",
   "name": "ir"
  },
  "language_info": {
   "codemirror_mode": "r",
   "file_extension": ".r",
   "mimetype": "text/x-r-source",
   "name": "R",
   "pygments_lexer": "r",
   "version": "3.4.2"
  }
 },
 "nbformat": 4,
 "nbformat_minor": 2
}
